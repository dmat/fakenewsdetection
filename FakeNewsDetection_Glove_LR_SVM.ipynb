{
  "nbformat": 4,
  "nbformat_minor": 0,
  "metadata": {
    "colab": {
      "name": "FakeNewsDetection_Glove_LR_SVM.ipynb",
      "provenance": [],
      "collapsed_sections": [],
      "include_colab_link": true
    },
    "kernelspec": {
      "name": "python3",
      "display_name": "Python 3"
    }
  },
  "cells": [
    {
      "cell_type": "markdown",
      "metadata": {
        "id": "view-in-github",
        "colab_type": "text"
      },
      "source": [
        "<a href=\"https://colab.research.google.com/github/dmat/fakenewsdetection/blob/main/FakeNewsDetection_Glove_LR_SVM.ipynb\" target=\"_parent\"><img src=\"https://colab.research.google.com/assets/colab-badge.svg\" alt=\"Open In Colab\"/></a>"
      ]
    },
    {
      "cell_type": "code",
      "metadata": {
        "id": "NOz-OUIldkuB"
      },
      "source": [
        "# For local run\n",
        "data_path = 'data/'"
      ],
      "execution_count": 39,
      "outputs": []
    },
    {
      "cell_type": "code",
      "metadata": {
        "colab": {
          "base_uri": "https://localhost:8080/"
        },
        "id": "f9NutMxSzHPw",
        "outputId": "d6401aea-094e-4077-e4fd-0dc81fbacaee"
      },
      "source": [
        "from google.colab import drive\n",
        "drive.mount('/content/drive')\n",
        "data_path = '/content/drive/My Drive/SML/fake news detection/'"
      ],
      "execution_count": 40,
      "outputs": [
        {
          "output_type": "stream",
          "text": [
            "Drive already mounted at /content/drive; to attempt to forcibly remount, call drive.mount(\"/content/drive\", force_remount=True).\n"
          ],
          "name": "stdout"
        }
      ]
    },
    {
      "cell_type": "code",
      "metadata": {
        "colab": {
          "base_uri": "https://localhost:8080/"
        },
        "id": "glXxI1AszYgB",
        "outputId": "e2319987-7d62-4e07-e7d0-2049691f08e2"
      },
      "source": [
        "import pandas as pd \n",
        "import matplotlib.pyplot as plt \n",
        "import numpy as np  \n",
        "np.random.seed(0)\n",
        "\n",
        "from nltk import word_tokenize\n",
        "from gensim.models import word2vec\n",
        "\n",
        "import nltk \n",
        "nltk.download('punkt')\n",
        "nltk.download('wordnet')"
      ],
      "execution_count": 41,
      "outputs": [
        {
          "output_type": "stream",
          "text": [
            "[nltk_data] Downloading package punkt to /root/nltk_data...\n",
            "[nltk_data]   Package punkt is already up-to-date!\n",
            "[nltk_data] Downloading package wordnet to /root/nltk_data...\n",
            "[nltk_data]   Package wordnet is already up-to-date!\n"
          ],
          "name": "stdout"
        },
        {
          "output_type": "execute_result",
          "data": {
            "text/plain": [
              "True"
            ]
          },
          "metadata": {
            "tags": []
          },
          "execution_count": 41
        }
      ]
    },
    {
      "cell_type": "code",
      "metadata": {
        "id": "T-e2NkkSzkOV"
      },
      "source": [
        "data_train = pd.read_csv(data_path + 'fnn_train.csv')\n",
        "data_test = pd.read_csv(data_path + 'fnn_test.csv')"
      ],
      "execution_count": 42,
      "outputs": []
    },
    {
      "cell_type": "code",
      "metadata": {
        "id": "ZpGnRYzGDQTI"
      },
      "source": [
        "data_train['label_fnn_new'] = np.where(data_train['label_fnn'] == 'fake', 0, 1)\n",
        "data_test['label_fnn_new'] = np.where(data_test['label_fnn'] == 'fake', 0, 1)"
      ],
      "execution_count": 4,
      "outputs": []
    },
    {
      "cell_type": "code",
      "metadata": {
        "colab": {
          "base_uri": "https://localhost:8080/",
          "height": 289
        },
        "id": "K0I54vkCAUxA",
        "outputId": "ed5e01cb-b518-4906-8376-78f2a7cde3af"
      },
      "source": [
        "data_train.head()"
      ],
      "execution_count": null,
      "outputs": [
        {
          "output_type": "execute_result",
          "data": {
            "text/html": [
              "<div>\n",
              "<style scoped>\n",
              "    .dataframe tbody tr th:only-of-type {\n",
              "        vertical-align: middle;\n",
              "    }\n",
              "\n",
              "    .dataframe tbody tr th {\n",
              "        vertical-align: top;\n",
              "    }\n",
              "\n",
              "    .dataframe thead th {\n",
              "        text-align: right;\n",
              "    }\n",
              "</style>\n",
              "<table border=\"1\" class=\"dataframe\">\n",
              "  <thead>\n",
              "    <tr style=\"text-align: right;\">\n",
              "      <th></th>\n",
              "      <th>id</th>\n",
              "      <th>date</th>\n",
              "      <th>speaker</th>\n",
              "      <th>statement</th>\n",
              "      <th>sources</th>\n",
              "      <th>paragraph_based_content</th>\n",
              "      <th>fullText_based_content</th>\n",
              "      <th>label_fnn</th>\n",
              "      <th>label_fnn_new</th>\n",
              "    </tr>\n",
              "  </thead>\n",
              "  <tbody>\n",
              "    <tr>\n",
              "      <th>0</th>\n",
              "      <td>3106</td>\n",
              "      <td>2011-01-25T06:00:00-05:00</td>\n",
              "      <td>Joe Wilkinson</td>\n",
              "      <td>A national organization says Georgia has one o...</td>\n",
              "      <td>['http://www.ajc.com/news/georgia-politics-ele...</td>\n",
              "      <td>['A coalition of government watchdog groups la...</td>\n",
              "      <td>A coalition of government watchdog groups last...</td>\n",
              "      <td>fake</td>\n",
              "      <td>0</td>\n",
              "    </tr>\n",
              "    <tr>\n",
              "      <th>1</th>\n",
              "      <td>5655</td>\n",
              "      <td>2012-04-02T11:42:20-04:00</td>\n",
              "      <td>Rick Scott</td>\n",
              "      <td>Says Barack Obama's health care law \"will be t...</td>\n",
              "      <td>['http://www.youtube.com/watch?v=TaC0mKApf9Q&amp;f...</td>\n",
              "      <td>['As Supreme Court justices embarked on three ...</td>\n",
              "      <td>As Supreme Court justices embarked on three da...</td>\n",
              "      <td>fake</td>\n",
              "      <td>0</td>\n",
              "    </tr>\n",
              "    <tr>\n",
              "      <th>2</th>\n",
              "      <td>3506</td>\n",
              "      <td>2011-04-01T09:49:05-04:00</td>\n",
              "      <td>J.D. Alexander</td>\n",
              "      <td>Says the Southwest Florida Water Management Di...</td>\n",
              "      <td>['http://www.tampabay.com/news/politics/gubern...</td>\n",
              "      <td>[\"Here's a new one: The Senate budget committe...</td>\n",
              "      <td>Here's a new one: The Senate budget committee ...</td>\n",
              "      <td>fake</td>\n",
              "      <td>0</td>\n",
              "    </tr>\n",
              "    <tr>\n",
              "      <th>3</th>\n",
              "      <td>3450</td>\n",
              "      <td>2011-03-21T12:20:02-04:00</td>\n",
              "      <td>Paul Ryan</td>\n",
              "      <td>\"The Congressional Budget Office has this econ...</td>\n",
              "      <td>['http://www.cnn.com/2011/POLITICS/03/17/gop.b...</td>\n",
              "      <td>['Recently, House Budget chairman Paul Ryan, R...</td>\n",
              "      <td>Recently, House Budget chairman Paul Ryan, R-W...</td>\n",
              "      <td>real</td>\n",
              "      <td>1</td>\n",
              "    </tr>\n",
              "    <tr>\n",
              "      <th>4</th>\n",
              "      <td>4776</td>\n",
              "      <td>2011-11-13T07:30:00-05:00</td>\n",
              "      <td>Rodney Frelinghuysen</td>\n",
              "      <td>Says the Treasury Department \"says 41 percent ...</td>\n",
              "      <td>['http://frelinghuysen.house.gov/index.cfm?sec...</td>\n",
              "      <td>['The millionaires’ tax proposal made its late...</td>\n",
              "      <td>The millionaires’ tax proposal made its latest...</td>\n",
              "      <td>fake</td>\n",
              "      <td>0</td>\n",
              "    </tr>\n",
              "  </tbody>\n",
              "</table>\n",
              "</div>"
            ],
            "text/plain": [
              "     id                       date  ... label_fnn label_fnn_new\n",
              "0  3106  2011-01-25T06:00:00-05:00  ...      fake             0\n",
              "1  5655  2012-04-02T11:42:20-04:00  ...      fake             0\n",
              "2  3506  2011-04-01T09:49:05-04:00  ...      fake             0\n",
              "3  3450  2011-03-21T12:20:02-04:00  ...      real             1\n",
              "4  4776  2011-11-13T07:30:00-05:00  ...      fake             0\n",
              "\n",
              "[5 rows x 9 columns]"
            ]
          },
          "metadata": {
            "tags": []
          },
          "execution_count": 7
        }
      ]
    },
    {
      "cell_type": "code",
      "metadata": {
        "id": "ixxm751U4C5c"
      },
      "source": [
        "from gensim.models import KeyedVectors\n",
        "from gensim.scripts.glove2word2vec import glove2word2vec\n",
        "import spacy\n",
        "import numpy as np\n",
        "from scipy import sparse\n",
        "from sklearn.linear_model import LogisticRegression\n",
        "from sklearn.datasets import fetch_20newsgroups\n",
        "import string\n",
        "\n",
        "\n",
        "def mean_transform(X, model):\n",
        "    transformed = None\n",
        "    for elem in X:\n",
        "        aux = ''.join(ch for ch in elem if ch not in set(string.punctuation))\n",
        "        wordVectors = [np.array(model.get_vector(word)) for word in aux.split(' ') if word in model.vocab]\n",
        "        if len(wordVectors) == 0:\n",
        "            length = len(model[next(key for key in model.vocab)])\n",
        "            wordVectors.append(np.zeros(length))\n",
        "        meanVector = list(np.mean(wordVectors, axis=0))\n",
        "        transformed = sparse.vstack([transformed, sparse.coo_matrix(meanVector)])\n",
        "    return transformed\n",
        "\n"
      ],
      "execution_count": 5,
      "outputs": []
    },
    {
      "cell_type": "code",
      "metadata": {
        "id": "AJQCFBJ3OHpZ",
        "colab": {
          "base_uri": "https://localhost:8080/"
        },
        "outputId": "eea6c2ba-c4b1-471b-dc8e-615b049c554d"
      },
      "source": [
        "\n",
        "# glove.42B.300d.txt\n",
        "glove_input_file = data_path + 'glove.6B.100d.txt'\n",
        "word2vec_output_file = data_path + 'glove.6B.100d.txt.word2vec'\n",
        "glove2word2vec(glove_input_file, word2vec_output_file)"
      ],
      "execution_count": 7,
      "outputs": [
        {
          "output_type": "execute_result",
          "data": {
            "text/plain": [
              "(400000, 100)"
            ]
          },
          "metadata": {
            "tags": []
          },
          "execution_count": 7
        }
      ]
    },
    {
      "cell_type": "code",
      "metadata": {
        "id": "tGrQisJapvwU"
      },
      "source": [
        "word2vec_output_file = data_path + 'glove.6B.100d.txt.word2vec'\n",
        "model_vanila = KeyedVectors.load_word2vec_format(word2vec_output_file, binary=False)\n",
        "X_train = mean_transform(data_train['fullText_based_content'], model_vanila)\n",
        "X_test = mean_transform(data_test['fullText_based_content'], model_vanila)"
      ],
      "execution_count": 8,
      "outputs": []
    },
    {
      "cell_type": "code",
      "metadata": {
        "id": "3uVljwZSMSqi"
      },
      "source": [
        "Y_train = data_train.label_fnn_new\n",
        "Y_test = data_test.label_fnn_new"
      ],
      "execution_count": 15,
      "outputs": []
    },
    {
      "cell_type": "code",
      "metadata": {
        "colab": {
          "base_uri": "https://localhost:8080/"
        },
        "id": "qS3-AAkRMsEk",
        "outputId": "7c67cbed-a72a-4345-9111-09809474fd5a"
      },
      "source": [
        "# fit logistic regression model\n",
        "from sklearn.linear_model import LogisticRegression\n",
        "modelLG = LogisticRegression(solver = 'liblinear',random_state=0)\n",
        "modelLG.fit(X_train, np.ravel(Y_train))"
      ],
      "execution_count": 35,
      "outputs": [
        {
          "output_type": "execute_result",
          "data": {
            "text/plain": [
              "LogisticRegression(C=1.0, class_weight=None, dual=False, fit_intercept=True,\n",
              "                   intercept_scaling=1, l1_ratio=None, max_iter=100,\n",
              "                   multi_class='auto', n_jobs=None, penalty='l2',\n",
              "                   random_state=0, solver='liblinear', tol=0.0001, verbose=0,\n",
              "                   warm_start=False)"
            ]
          },
          "metadata": {
            "tags": []
          },
          "execution_count": 35
        }
      ]
    },
    {
      "cell_type": "code",
      "metadata": {
        "id": "YMOzbeBUUEH6"
      },
      "source": [
        "from sklearn import metrics\n",
        "import seaborn as sns\n",
        "from sklearn.metrics import mean_squared_error"
      ],
      "execution_count": 30,
      "outputs": []
    },
    {
      "cell_type": "code",
      "metadata": {
        "id": "BghUCIqiUkd2"
      },
      "source": [
        "y_pred_lg_train = modelLG.predict(X_train)\n",
        "y_pred_lg_test = modelLG.predict(X_test)"
      ],
      "execution_count": 36,
      "outputs": []
    },
    {
      "cell_type": "code",
      "metadata": {
        "colab": {
          "base_uri": "https://localhost:8080/"
        },
        "id": "1n6bc2P-UwD9",
        "outputId": "b0a265b2-01e0-4b31-999c-0173f3734e4d"
      },
      "source": [
        "print(\"Accuracy is:\", metrics.accuracy_score(Y_train, y_pred_lg_train))\n",
        "print(\"Mean Squared Error is:\", np.sqrt(mean_squared_error(Y_train, y_pred_lg_train)))\n",
        "print(metrics.classification_report(Y_train, y_pred_lg_train))"
      ],
      "execution_count": 37,
      "outputs": [
        {
          "output_type": "stream",
          "text": [
            "Accuracy is: 0.6497501972127268\n",
            "Mean Squared Error is: 0.5918190625413084\n",
            "              precision    recall  f1-score   support\n",
            "\n",
            "           0       0.66      0.62      0.64      7621\n",
            "           1       0.64      0.68      0.66      7591\n",
            "\n",
            "    accuracy                           0.65     15212\n",
            "   macro avg       0.65      0.65      0.65     15212\n",
            "weighted avg       0.65      0.65      0.65     15212\n",
            "\n"
          ],
          "name": "stdout"
        }
      ]
    },
    {
      "cell_type": "code",
      "metadata": {
        "colab": {
          "base_uri": "https://localhost:8080/"
        },
        "id": "cW0svGKBU4uY",
        "outputId": "e3f19a3a-2064-4981-8ac9-9952b116ac0c"
      },
      "source": [
        "print(\"Accuracy is:\", metrics.accuracy_score(Y_test, y_pred_lg_test))\n",
        "print(\"Mean Squared Error is:\", np.sqrt(mean_squared_error(Y_test, y_pred_lg_test)))\n",
        "print(metrics.classification_report(Y_test, y_pred_lg_test))"
      ],
      "execution_count": 38,
      "outputs": [
        {
          "output_type": "stream",
          "text": [
            "Accuracy is: 0.715370018975332\n",
            "Mean Squared Error is: 0.533507245522184\n",
            "              precision    recall  f1-score   support\n",
            "\n",
            "           0       0.58      0.99      0.73       418\n",
            "           1       0.99      0.53      0.69       636\n",
            "\n",
            "    accuracy                           0.72      1054\n",
            "   macro avg       0.79      0.76      0.71      1054\n",
            "weighted avg       0.83      0.72      0.71      1054\n",
            "\n"
          ],
          "name": "stdout"
        }
      ]
    },
    {
      "cell_type": "code",
      "metadata": {
        "colab": {
          "base_uri": "https://localhost:8080/"
        },
        "id": "G-2g9sCt3srl",
        "outputId": "e6b2037b-111a-4ad5-a28c-7e38cf888f8f"
      },
      "source": [
        "from sklearn.svm import SVC\n",
        "svc = SVC(kernel='linear', random_state=1)\n",
        "svc.fit(X_train, np.ravel(Y_train))"
      ],
      "execution_count": 34,
      "outputs": [
        {
          "output_type": "execute_result",
          "data": {
            "text/plain": [
              "SVC(C=1.0, break_ties=False, cache_size=200, class_weight=None, coef0=0.0,\n",
              "    decision_function_shape='ovr', degree=3, gamma='scale', kernel='linear',\n",
              "    max_iter=-1, probability=False, random_state=1, shrinking=True, tol=0.001,\n",
              "    verbose=False)"
            ]
          },
          "metadata": {
            "tags": []
          },
          "execution_count": 34
        }
      ]
    },
    {
      "cell_type": "code",
      "metadata": {
        "id": "CoBdTz_m4sc9"
      },
      "source": [
        "y_pred_svm_train = svc.predict(X_train)\n",
        "y_pred_svm_test = svc.predict(X_test)"
      ],
      "execution_count": 23,
      "outputs": []
    },
    {
      "cell_type": "code",
      "metadata": {
        "colab": {
          "base_uri": "https://localhost:8080/"
        },
        "id": "2MHd3tsV9vpp",
        "outputId": "28583e01-c9b5-4807-d9f6-fbb29e401969"
      },
      "source": [
        "print(\"Accuracy is:\", metrics.accuracy_score(Y_train, y_pred_svm_train))\n",
        "print(\"Mean Squared Error is:\", np.sqrt(mean_squared_error(Y_train, y_pred_svm_train)))\n",
        "print(metrics.classification_report(Y_train, y_pred_svm_train))"
      ],
      "execution_count": 20,
      "outputs": [
        {
          "output_type": "stream",
          "text": [
            "Accuracy is: 0.6495529844859321\n",
            "Mean Squared Error is: 0.5919856548211855\n",
            "              precision    recall  f1-score   support\n",
            "\n",
            "           0       0.66      0.61      0.63      7621\n",
            "           1       0.64      0.69      0.66      7591\n",
            "\n",
            "    accuracy                           0.65     15212\n",
            "   macro avg       0.65      0.65      0.65     15212\n",
            "weighted avg       0.65      0.65      0.65     15212\n",
            "\n"
          ],
          "name": "stdout"
        }
      ]
    },
    {
      "cell_type": "code",
      "metadata": {
        "colab": {
          "base_uri": "https://localhost:8080/"
        },
        "id": "M5B6yit5OaPl",
        "outputId": "dced7ce4-8087-4724-ace2-fe2a6d162260"
      },
      "source": [
        "print(\"Accuracy is:\", metrics.accuracy_score(Y_test, y_pred_svm_test))\n",
        "print(\"Mean Squared Error is:\", np.sqrt(mean_squared_error(Y_test, y_pred_svm_test)))\n",
        "print(metrics.classification_report(Y_test, y_pred_svm_test))"
      ],
      "execution_count": 22,
      "outputs": [
        {
          "output_type": "stream",
          "text": [
            "Accuracy is: 0.7201138519924098\n",
            "Mean Squared Error is: 0.529042671254021\n",
            "              precision    recall  f1-score   support\n",
            "\n",
            "           0       0.59      0.99      0.74       418\n",
            "           1       0.99      0.54      0.70       636\n",
            "\n",
            "    accuracy                           0.72      1054\n",
            "   macro avg       0.79      0.77      0.72      1054\n",
            "weighted avg       0.83      0.72      0.72      1054\n",
            "\n"
          ],
          "name": "stdout"
        }
      ]
    },
    {
      "cell_type": "code",
      "metadata": {
        "id": "Jfb_yu4WjiIL"
      },
      "source": [
        ""
      ],
      "execution_count": null,
      "outputs": []
    }
  ]
}