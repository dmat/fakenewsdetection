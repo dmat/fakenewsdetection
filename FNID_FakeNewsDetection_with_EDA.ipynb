{
  "nbformat": 4,
  "nbformat_minor": 0,
  "metadata": {
    "accelerator": "GPU",
    "colab": {
      "name": "FNID_FakeNewsDetection with EDA.ipynb",
      "provenance": [],
      "collapsed_sections": [],
      "machine_shape": "hm",
      "include_colab_link": true
    },
    "kernelspec": {
      "display_name": "Python 3",
      "name": "python3"
    }
  },
  "cells": [
    {
      "cell_type": "markdown",
      "metadata": {
        "id": "view-in-github",
        "colab_type": "text"
      },
      "source": [
        "<a href=\"https://colab.research.google.com/github/dmat/fakenewsdetection/blob/main/FNID_FakeNewsDetection_with_EDA.ipynb\" target=\"_parent\"><img src=\"https://colab.research.google.com/assets/colab-badge.svg\" alt=\"Open In Colab\"/></a>"
      ]
    },
    {
      "cell_type": "code",
      "metadata": {
        "colab": {
          "base_uri": "https://localhost:8080/"
        },
        "id": "tAbxaqu1qdeK",
        "outputId": "4f14606e-66e9-46bf-9f07-5104c3b04a67"
      },
      "source": [
        "# import libraries\n",
        "from google.colab import drive\n",
        "drive.mount('/content/drive')\n",
        "import pandas as pd \n",
        "import matplotlib.pyplot as plt \n",
        "import numpy as np  \n",
        "import re \n",
        "import nltk \n",
        "nltk.download('punkt')\n",
        "nltk.download('wordnet')\n",
        "import wordcloud \n",
        "from wordcloud import WordCloud\n",
        "import statistics\n",
        "import string\n",
        "from collections import Counter\n",
        "from nltk.stem import WordNetLemmatizer \n",
        "from nltk.tokenize import word_tokenize\n",
        "from nltk.corpus import stopwords\n",
        "from sklearn.feature_extraction.text import CountVectorizer\n",
        "from sklearn.metrics import accuracy_score, classification_report, confusion_matrix, precision_score, recall_score\n",
        "import torch\n",
        "import torch.nn as nn\n",
        "import seaborn as sns \n",
        "nltk.download('stopwords')\n",
        "from nltk.corpus import stopwords\n",
        "stop_words = list(stopwords.words('english'))\n",
        "stop_words.extend([\"said\", \"reuters\", \"CNN\", \"would\", \"image\", \"via\", \"say\",\"state\",\"year\", \"tax\"]) #extend stopwords to include these words too"
      ],
      "execution_count": null,
      "outputs": [
        {
          "output_type": "stream",
          "text": [
            "Mounted at /content/drive\n",
            "[nltk_data] Downloading package punkt to /root/nltk_data...\n",
            "[nltk_data]   Unzipping tokenizers/punkt.zip.\n",
            "[nltk_data] Downloading package wordnet to /root/nltk_data...\n",
            "[nltk_data]   Unzipping corpora/wordnet.zip.\n",
            "[nltk_data] Downloading package stopwords to /root/nltk_data...\n",
            "[nltk_data]   Unzipping corpora/stopwords.zip.\n"
          ],
          "name": "stdout"
        }
      ]
    },
    {
      "cell_type": "code",
      "metadata": {
        "id": "hRL9iTq7uIXE"
      },
      "source": [
        "# load the training and testing data\n",
        "data_train = pd.read_csv('/content/drive/My Drive/SML/fake news detection/fnn_train.csv')\n",
        "data_test = pd.read_csv('/content/drive/My Drive/SML/fake news detection/fnn_test.csv')\n",
        "data_dev = pd.read_csv('/content/drive/My Drive/SML/fake news detection/fnn_dev.csv')"
      ],
      "execution_count": null,
      "outputs": []
    },
    {
      "cell_type": "code",
      "metadata": {
        "id": "CfGgtLfHBt53"
      },
      "source": [
        "# convert the data labels into categorical variables (real = 0, fake = 1)\n",
        "data_train[\"label_fnn\"] = data_train[\"label_fnn\"].replace(\"real\",0)\n",
        "data_train[\"label_fnn\"] = data_train[\"label_fnn\"].replace(\"fake\",1)\n",
        "data_test[\"label_fnn\"] = data_test[\"label_fnn\"].replace(\"real\",0)\n",
        "data_test[\"label_fnn\"] = data_test[\"label_fnn\"].replace(\"fake\",1)\n",
        "data_dev[\"label_fnn\"] = data_dev[\"label_fnn\"].replace(\"real\",0)\n",
        "data_dev[\"label_fnn\"] = data_dev[\"label_fnn\"].replace(\"fake\",1)"
      ],
      "execution_count": null,
      "outputs": []
    },
    {
      "cell_type": "code",
      "metadata": {
        "colab": {
          "base_uri": "https://localhost:8080/"
        },
        "id": "QnOxnmzMtPHL",
        "outputId": "0af9beb7-4ffb-4e7f-bda8-098f336a900f"
      },
      "source": [
        "# check for any null data in the datset\n",
        "data_train.isnull().sum()\n",
        "data_train.info()\n",
        "\n",
        "data_test.isnull().sum()\n",
        "data_test.info()\n",
        "\n",
        "data_dev.isnull().sum()\n",
        "data_dev.info()"
      ],
      "execution_count": null,
      "outputs": [
        {
          "output_type": "stream",
          "text": [
            "<class 'pandas.core.frame.DataFrame'>\n",
            "RangeIndex: 15212 entries, 0 to 15211\n",
            "Data columns (total 8 columns):\n",
            " #   Column                   Non-Null Count  Dtype \n",
            "---  ------                   --------------  ----- \n",
            " 0   id                       15212 non-null  int64 \n",
            " 1   date                     15212 non-null  object\n",
            " 2   speaker                  15212 non-null  object\n",
            " 3   statement                15212 non-null  object\n",
            " 4   sources                  15212 non-null  object\n",
            " 5   paragraph_based_content  15212 non-null  object\n",
            " 6   fullText_based_content   15212 non-null  object\n",
            " 7   label_fnn                15212 non-null  int64 \n",
            "dtypes: int64(2), object(6)\n",
            "memory usage: 950.9+ KB\n",
            "<class 'pandas.core.frame.DataFrame'>\n",
            "RangeIndex: 1054 entries, 0 to 1053\n",
            "Data columns (total 8 columns):\n",
            " #   Column                   Non-Null Count  Dtype \n",
            "---  ------                   --------------  ----- \n",
            " 0   id                       1054 non-null   int64 \n",
            " 1   date                     1054 non-null   object\n",
            " 2   speaker                  1054 non-null   object\n",
            " 3   statement                1054 non-null   object\n",
            " 4   sources                  1054 non-null   object\n",
            " 5   paragraph_based_content  1054 non-null   object\n",
            " 6   fullText_based_content   1054 non-null   object\n",
            " 7   label_fnn                1054 non-null   int64 \n",
            "dtypes: int64(2), object(6)\n",
            "memory usage: 66.0+ KB\n",
            "<class 'pandas.core.frame.DataFrame'>\n",
            "RangeIndex: 1058 entries, 0 to 1057\n",
            "Data columns (total 8 columns):\n",
            " #   Column                   Non-Null Count  Dtype \n",
            "---  ------                   --------------  ----- \n",
            " 0   id                       1058 non-null   int64 \n",
            " 1   date                     1058 non-null   object\n",
            " 2   speaker                  1058 non-null   object\n",
            " 3   statement                1058 non-null   object\n",
            " 4   sources                  1058 non-null   object\n",
            " 5   paragraph_based_content  1058 non-null   object\n",
            " 6   fullText_based_content   1058 non-null   object\n",
            " 7   label_fnn                1058 non-null   int64 \n",
            "dtypes: int64(2), object(6)\n",
            "memory usage: 66.2+ KB\n"
          ],
          "name": "stdout"
        }
      ]
    },
    {
      "cell_type": "code",
      "metadata": {
        "colab": {
          "base_uri": "https://localhost:8080/",
          "height": 939
        },
        "id": "z6RRz7tlPZNK",
        "outputId": "33598430-7e9f-4425-8394-2a0c291d1892"
      },
      "source": [
        "# visualize if the dataset is balanced\n",
        "sns.countplot(data_train[\"label_fnn\"])\n",
        "plt.show()\n",
        "\n",
        "sns.countplot(data_test[\"label_fnn\"])\n",
        "plt.show()\n",
        "\n",
        "sns.countplot(data_dev[\"label_fnn\"])\n",
        "plt.show()"
      ],
      "execution_count": null,
      "outputs": [
        {
          "output_type": "stream",
          "text": [
            "/usr/local/lib/python3.6/dist-packages/seaborn/_decorators.py:43: FutureWarning: Pass the following variable as a keyword arg: x. From version 0.12, the only valid positional argument will be `data`, and passing other arguments without an explicit keyword will result in an error or misinterpretation.\n",
            "  FutureWarning\n"
          ],
          "name": "stderr"
        },
        {
          "output_type": "display_data",
          "data": {
            "image/png": "[encoded data removed]",
            "text/plain": [
              "<Figure size 432x288 with 1 Axes>"
            ]
          },
          "metadata": {
            "tags": [],
            "needs_background": "light"
          }
        },
        {
          "output_type": "stream",
          "text": [
            "/usr/local/lib/python3.6/dist-packages/seaborn/_decorators.py:43: FutureWarning: Pass the following variable as a keyword arg: x. From version 0.12, the only valid positional argument will be `data`, and passing other arguments without an explicit keyword will result in an error or misinterpretation.\n",
            "  FutureWarning\n"
          ],
          "name": "stderr"
        },
        {
          "output_type": "display_data",
          "data": {
            "image/png": "[encoded data removed]",
            "text/plain": [
              "<Figure size 432x288 with 1 Axes>"
            ]
          },
          "metadata": {
            "tags": [],
            "needs_background": "light"
          }
        },
        {
          "output_type": "stream",
          "text": [
            "/usr/local/lib/python3.6/dist-packages/seaborn/_decorators.py:43: FutureWarning: Pass the following variable as a keyword arg: x. From version 0.12, the only valid positional argument will be `data`, and passing other arguments without an explicit keyword will result in an error or misinterpretation.\n",
            "  FutureWarning\n"
          ],
          "name": "stderr"
        },
        {
          "output_type": "display_data",
          "data": {
            "image/png": "[encoded data removed]",
            "text/plain": [
              "<Figure size 432x288 with 1 Axes>"
            ]
          },
          "metadata": {
            "tags": [],
            "needs_background": "light"
          }
        }
      ]
    },
    {
      "cell_type": "code",
      "metadata": {
        "colab": {
          "base_uri": "https://localhost:8080/",
          "height": 388
        },
        "id": "N5cI4KTIwe-R",
        "outputId": "81730471-4fb9-4333-faac-d3a32793f78f"
      },
      "source": [
        "# drop the date column and create dummies for sources of news\n",
        "data_train = data_train.drop(\"date\", axis=1)\n",
        "#data_train = pd.get_dummies(data_train,columns=[\"sources\"])\n",
        "data_train.head()\n",
        "\n",
        "data_test = data_test.drop(\"date\", axis=1)\n",
        "#data_test = pd.get_dummies(data_test,columns=[\"sources\"])\n",
        "data_test.head()\n",
        "\n",
        "data_dev = data_dev.drop(\"date\", axis=1)\n",
        "#data_test = pd.get_dummies(data_test,columns=[\"sources\"])\n",
        "data_dev.head()"
      ],
      "execution_count": null,
      "outputs": [
        {
          "output_type": "execute_result",
          "data": {
            "text/html": [
              "<div>\n",
              "<style scoped>\n",
              "    .dataframe tbody tr th:only-of-type {\n",
              "        vertical-align: middle;\n",
              "    }\n",
              "\n",
              "    .dataframe tbody tr th {\n",
              "        vertical-align: top;\n",
              "    }\n",
              "\n",
              "    .dataframe thead th {\n",
              "        text-align: right;\n",
              "    }\n",
              "</style>\n",
              "<table border=\"1\" class=\"dataframe\">\n",
              "  <thead>\n",
              "    <tr style=\"text-align: right;\">\n",
              "      <th></th>\n",
              "      <th>id</th>\n",
              "      <th>speaker</th>\n",
              "      <th>statement</th>\n",
              "      <th>sources</th>\n",
              "      <th>paragraph_based_content</th>\n",
              "      <th>fullText_based_content</th>\n",
              "      <th>label_fnn</th>\n",
              "    </tr>\n",
              "  </thead>\n",
              "  <tbody>\n",
              "    <tr>\n",
              "      <th>0</th>\n",
              "      <td>1636</td>\n",
              "      <td>Charlie Crist</td>\n",
              "      <td>Rubio's tax swap proposal \"would have been a m...</td>\n",
              "      <td>['http://blogs.tampabay.com/buzz/files/040307l...</td>\n",
              "      <td>['Gov. Charlie Crist launched what amounts to ...</td>\n",
              "      <td>Gov. Charlie Crist launched what amounts to a ...</td>\n",
              "      <td>1</td>\n",
              "    </tr>\n",
              "    <tr>\n",
              "      <th>1</th>\n",
              "      <td>4352</td>\n",
              "      <td>Bobby  Scott</td>\n",
              "      <td>\"The estimated savings of this (debt ceiling) ...</td>\n",
              "      <td>['http://www.bobbyscott.house.gov/index.php?op...</td>\n",
              "      <td>['U.S. Rep. Bobby Scott, D-3rd, was not please...</td>\n",
              "      <td>U.S. Rep. Bobby Scott, D-3rd, was not pleased ...</td>\n",
              "      <td>0</td>\n",
              "    </tr>\n",
              "    <tr>\n",
              "      <th>2</th>\n",
              "      <td>16471</td>\n",
              "      <td>Wisconsin Republican Legislative leaders</td>\n",
              "      <td>Foxconn has already \"made a positive impact ac...</td>\n",
              "      <td>['https://www.wispolitics.com/2019/sen-fitzger...</td>\n",
              "      <td>[\"Amid reports questioning Foxconn Technology ...</td>\n",
              "      <td>Amid reports questioning Foxconn Technology Gr...</td>\n",
              "      <td>1</td>\n",
              "    </tr>\n",
              "    <tr>\n",
              "      <th>3</th>\n",
              "      <td>1557</td>\n",
              "      <td>Dave Aronberg</td>\n",
              "      <td>Says Gov. Charlie Crist has called him \"a rock...</td>\n",
              "      <td>['http://www.davearonberg.com/about', 'http://...</td>\n",
              "      <td>[\"State Sen. Dave Aronberg, a Democratic candi...</td>\n",
              "      <td>State Sen. Dave Aronberg, a Democratic candida...</td>\n",
              "      <td>0</td>\n",
              "    </tr>\n",
              "    <tr>\n",
              "      <th>4</th>\n",
              "      <td>12826</td>\n",
              "      <td>Jeannette Vaught</td>\n",
              "      <td>\"Only five Texas counties account for almost 9...</td>\n",
              "      <td>['http://www.mystatesman.com/news/news/opinion...</td>\n",
              "      <td>['From the citrus of the Rio Grande Valley to ...</td>\n",
              "      <td>From the citrus of the Rio Grande Valley to th...</td>\n",
              "      <td>1</td>\n",
              "    </tr>\n",
              "  </tbody>\n",
              "</table>\n",
              "</div>"
            ],
            "text/plain": [
              "      id  ... label_fnn\n",
              "0   1636  ...         1\n",
              "1   4352  ...         0\n",
              "2  16471  ...         1\n",
              "3   1557  ...         0\n",
              "4  12826  ...         1\n",
              "\n",
              "[5 rows x 7 columns]"
            ]
          },
          "metadata": {
            "tags": []
          },
          "execution_count": 7
        }
      ]
    },
    {
      "cell_type": "code",
      "metadata": {
        "colab": {
          "base_uri": "https://localhost:8080/"
        },
        "id": "Yd51IF4T86Py",
        "outputId": "5d88ed5a-6079-4de8-caf7-0c94bf5ac649"
      },
      "source": [
        "# drop the columns which are not required\n",
        "print(data_train)\n",
        "data_train.info()\n",
        "data_train = data_train.drop([\"speaker\", \"fullText_based_content\"],axis=1)\n",
        "\n",
        "print(data_test)\n",
        "data_test.info()\n",
        "data_test = data_test.drop([\"speaker\", \"fullText_based_content\"],axis=1)\n",
        "\n",
        "print(data_dev)\n",
        "data_dev.info()\n",
        "data_dev = data_dev.drop([\"speaker\", \"fullText_based_content\"],axis=1)\n"
      ],
      "execution_count": null,
      "outputs": [
        {
          "output_type": "stream",
          "text": [
            "          id  ... label_fnn\n",
            "0       3106  ...         1\n",
            "1       5655  ...         1\n",
            "2       3506  ...         1\n",
            "3       3450  ...         0\n",
            "4       4776  ...         1\n",
            "...      ...  ...       ...\n",
            "15207   7125  ...         0\n",
            "15208  17742  ...         1\n",
            "15209  16988  ...         1\n",
            "15210   5758  ...         1\n",
            "15211  16941  ...         0\n",
            "\n",
            "[15212 rows x 7 columns]\n",
            "<class 'pandas.core.frame.DataFrame'>\n",
            "RangeIndex: 15212 entries, 0 to 15211\n",
            "Data columns (total 7 columns):\n",
            " #   Column                   Non-Null Count  Dtype \n",
            "---  ------                   --------------  ----- \n",
            " 0   id                       15212 non-null  int64 \n",
            " 1   speaker                  15212 non-null  object\n",
            " 2   statement                15212 non-null  object\n",
            " 3   sources                  15212 non-null  object\n",
            " 4   paragraph_based_content  15212 non-null  object\n",
            " 5   fullText_based_content   15212 non-null  object\n",
            " 6   label_fnn                15212 non-null  int64 \n",
            "dtypes: int64(2), object(5)\n",
            "memory usage: 832.0+ KB\n",
            "         id  ... label_fnn\n",
            "0      1678  ...         0\n",
            "1      1820  ...         0\n",
            "2      1624  ...         0\n",
            "3      1576  ...         0\n",
            "4      1770  ...         0\n",
            "...     ...  ...       ...\n",
            "1049  12070  ...         0\n",
            "1050  10423  ...         0\n",
            "1051  12017  ...         0\n",
            "1052  12120  ...         0\n",
            "1053   1052  ...         0\n",
            "\n",
            "[1054 rows x 7 columns]\n",
            "<class 'pandas.core.frame.DataFrame'>\n",
            "RangeIndex: 1054 entries, 0 to 1053\n",
            "Data columns (total 7 columns):\n",
            " #   Column                   Non-Null Count  Dtype \n",
            "---  ------                   --------------  ----- \n",
            " 0   id                       1054 non-null   int64 \n",
            " 1   speaker                  1054 non-null   object\n",
            " 2   statement                1054 non-null   object\n",
            " 3   sources                  1054 non-null   object\n",
            " 4   paragraph_based_content  1054 non-null   object\n",
            " 5   fullText_based_content   1054 non-null   object\n",
            " 6   label_fnn                1054 non-null   int64 \n",
            "dtypes: int64(2), object(5)\n",
            "memory usage: 57.8+ KB\n",
            "         id  ... label_fnn\n",
            "0      1636  ...         1\n",
            "1      4352  ...         0\n",
            "2     16471  ...         1\n",
            "3      1557  ...         0\n",
            "4     12826  ...         1\n",
            "...     ...  ...       ...\n",
            "1053   1819  ...         1\n",
            "1054  15722  ...         1\n",
            "1055  10562  ...         0\n",
            "1056  16526  ...         1\n",
            "1057   9452  ...         0\n",
            "\n",
            "[1058 rows x 7 columns]\n",
            "<class 'pandas.core.frame.DataFrame'>\n",
            "RangeIndex: 1058 entries, 0 to 1057\n",
            "Data columns (total 7 columns):\n",
            " #   Column                   Non-Null Count  Dtype \n",
            "---  ------                   --------------  ----- \n",
            " 0   id                       1058 non-null   int64 \n",
            " 1   speaker                  1058 non-null   object\n",
            " 2   statement                1058 non-null   object\n",
            " 3   sources                  1058 non-null   object\n",
            " 4   paragraph_based_content  1058 non-null   object\n",
            " 5   fullText_based_content   1058 non-null   object\n",
            " 6   label_fnn                1058 non-null   int64 \n",
            "dtypes: int64(2), object(5)\n",
            "memory usage: 58.0+ KB\n"
          ],
          "name": "stdout"
        }
      ]
    },
    {
      "cell_type": "code",
      "metadata": {
        "id": "YR68Ednb-1Sj"
      },
      "source": [
        "data_train.head()"
      ],
      "execution_count": null,
      "outputs": []
    },
    {
      "cell_type": "code",
      "metadata": {
        "id": "mQNr8r-yyYXU"
      },
      "source": [
        "#vectorise content\n",
        "new_text_train = []\n",
        "pattern = \"[^a-zA-Z]\"\n",
        "lemma = nltk.WordNetLemmatizer()\n",
        "\n",
        "for txt in data_train.paragraph_based_content:\n",
        "    \n",
        "    txt = re.sub(pattern,\" \",txt) # Cleaning\n",
        "    txt = txt.lower() # Lowering\n",
        "    txt = nltk.word_tokenize(txt) # Tokenizing\n",
        "    txt = [lemma.lemmatize(word) for word in txt] # Lemmatizing\n",
        "    txt = \" \".join(txt)\n",
        "    new_text_train.append(txt)\n",
        "\n",
        "new_text_test = []\n",
        "for txt in data_test.paragraph_based_content:\n",
        "    \n",
        "    txt = re.sub(pattern,\" \",txt) # Cleaning\n",
        "    txt = txt.lower() # Lowering\n",
        "    txt = nltk.word_tokenize(txt) # Tokenizing\n",
        "    txt = [lemma.lemmatize(word) for word in txt] # Lemmatizing\n",
        "    txt = \" \".join(txt)\n",
        "    new_text_test.append(txt)\n",
        "\n",
        "    new_text_dev = []\n",
        "for txt in data_dev.paragraph_based_content:\n",
        "    \n",
        "    txt = re.sub(pattern,\" \",txt) # Cleaning\n",
        "    txt = txt.lower() # Lowering\n",
        "    txt = nltk.word_tokenize(txt) # Tokenizing\n",
        "    txt = [lemma.lemmatize(word) for word in txt] # Lemmatizing\n",
        "    txt = \" \".join(txt)\n",
        "    new_text_dev.append(txt)"
      ],
      "execution_count": null,
      "outputs": []
    },
    {
      "cell_type": "code",
      "metadata": {
        "id": "FfYqpZzz11HR"
      },
      "source": [
        "#vectorise statement\n",
        "new_title_train = []\n",
        "for txt in data_train.statement:\n",
        "    \n",
        "    txt = re.sub(pattern,\" \",txt) # Cleaning\n",
        "    txt = txt.lower() # Lowering\n",
        "    txt = nltk.word_tokenize(txt) # Tokenizing\n",
        "    txt = [lemma.lemmatize(word) for word in txt] # Lemmatizing\n",
        "    txt = \" \".join(txt)\n",
        "    new_title_train.append(txt)\n",
        "\n",
        "new_title_test = []\n",
        "for txt in data_test.statement:\n",
        "    \n",
        "    txt = re.sub(pattern,\" \",txt) # Cleaning\n",
        "    txt = txt.lower() # Lowering\n",
        "    txt = nltk.word_tokenize(txt) # Tokenizing\n",
        "    txt = [lemma.lemmatize(word) for word in txt] # Lemmatizing\n",
        "    txt = \" \".join(txt)\n",
        "    new_title_test.append(txt)\n",
        "\n",
        "new_title_dev = []\n",
        "for txt in data_dev.statement:\n",
        "    \n",
        "    txt = re.sub(pattern,\" \",txt) # Cleaning\n",
        "    txt = txt.lower() # Lowering\n",
        "    txt = nltk.word_tokenize(txt) # Tokenizing\n",
        "    txt = [lemma.lemmatize(word) for word in txt] # Lemmatizing\n",
        "    txt = \" \".join(txt)\n",
        "    new_title_dev.append(txt)\n"
      ],
      "execution_count": null,
      "outputs": []
    },
    {
      "cell_type": "code",
      "metadata": {
        "id": "nsAHCZAiHYoG"
      },
      "source": [
        "print(new_title_train)"
      ],
      "execution_count": null,
      "outputs": []
    },
    {
      "cell_type": "code",
      "metadata": {
        "id": "ynDvVhtWubWj"
      },
      "source": [
        "data_train_fake = data_train[data_train['label_fnn'] == 0]\n",
        "data_train_true = data_train[data_train['label_fnn'] == 1]\n"
      ],
      "execution_count": null,
      "outputs": []
    },
    {
      "cell_type": "code",
      "metadata": {
        "id": "5Mi-UQQ443IK"
      },
      "source": [
        "data_train_fake.head()"
      ],
      "execution_count": null,
      "outputs": []
    },
    {
      "cell_type": "code",
      "metadata": {
        "id": "TwbiqpS1pyt7"
      },
      "source": [
        "lemmatizer = WordNetLemmatizer()  \n",
        "\n",
        "words_in_t = [] #all tokens in true articles\n",
        "words_in_f = [] #all tokens in fake articles\n",
        "words_in_each_article_t = [] #list of true articles, each in tokenized form\n",
        "words_in_each_article_f = [] #list of fake articles, each in tokenized form\n",
        "\n",
        "def process(df, word_list, by_article_list):\n",
        "  for article in (df[\"paragraph_based_content\"]):\n",
        "    words = word_tokenize(article)\n",
        "    words = [word.lower() for word in words if word.isalpha()] #lowercase\n",
        "    words = [word for word in words if word not in string.punctuation and word not in stop_words] #punctuation, stopwords\n",
        "    words = [lemmatizer.lemmatize(word) for word in words] #convert word to root form\n",
        "\n",
        "    by_article_list.append(words)\n",
        "    for w in words:\n",
        "      word_list.append(w)"
      ],
      "execution_count": null,
      "outputs": []
    },
    {
      "cell_type": "code",
      "metadata": {
        "id": "9BQamZedt6U1"
      },
      "source": [
        "#NOTE: If rerunning, this cell will take a while\n",
        "process(data_train_fake, words_in_f, words_in_each_article_f)\n",
        "process(data_train_true, words_in_t, words_in_each_article_t)\n",
        "print(words_in_t)"
      ],
      "execution_count": null,
      "outputs": []
    },
    {
      "cell_type": "code",
      "metadata": {
        "id": "51umFV5CmMVi"
      },
      "source": [
        "wordcounts_true = Counter(words_in_t)\n",
        "wordcounts_false = Counter(words_in_f)\n",
        "\n",
        "mostcommon_t = Counter(wordcounts_true).most_common(50)\n",
        "mostcommon_f = Counter(wordcounts_false).most_common(50)\n",
        "print(mostcommon_t)\n",
        "print(mostcommon_f)\n"
      ],
      "execution_count": null,
      "outputs": []
    },
    {
      "cell_type": "code",
      "metadata": {
        "id": "OlaH9fTNuTQ5"
      },
      "source": [
        "sns.set_theme(style=\"whitegrid\")\n",
        "ax = sns.barplot(x=\"wordcounts_true\", y=\"words_in_t\")"
      ],
      "execution_count": null,
      "outputs": []
    },
    {
      "cell_type": "code",
      "metadata": {
        "id": "3PXvRg8NpU2s"
      },
      "source": [
        "t_plot = dict(mostcommon_t)\n",
        "mostcommon_t = pd.DataFrame(mostcommon_t, columns = [\"Word\", \"Count\"])\n",
        "mostcommon_t = mostcommon_t.reset_index(drop=True)\n",
        "mostcommon_t = mostcommon_t['Word'].tolist()\n",
        "\n",
        "f_plot = dict(mostcommon_f)\n",
        "mostcommon_f = pd.DataFrame(mostcommon_f, columns = [\"Word\", \"Count\"])\n",
        "mostcommon_f = mostcommon_f.reset_index(drop=True)\n",
        "mostcommon_f = mostcommon_f['Word'].tolist()"
      ],
      "execution_count": null,
      "outputs": []
    },
    {
      "cell_type": "code",
      "metadata": {
        "id": "P5OEFScvpcNC"
      },
      "source": [
        "t_wc = WordCloud(max_words=50,relative_scaling=1,background_color ='white', normalize_plurals=False).generate_from_frequencies(t_plot)\n",
        "\n",
        "plt.imshow(t_wc)\n",
        "plt.title(\"Plot of Most Frequent Words in Real News\")\n",
        "plt.show()"
      ],
      "execution_count": null,
      "outputs": []
    },
    {
      "cell_type": "code",
      "metadata": {
        "id": "CkMzg8pK67E8"
      },
      "source": [
        "f_wc = WordCloud(max_words=50,relative_scaling=1,background_color ='white', normalize_plurals=False).generate_from_frequencies(f_plot)\n",
        "\n",
        "plt.imshow(f_wc)\n",
        "plt.title(\"Plot of Most Frequent Words in Fake News\")\n",
        "plt.show()"
      ],
      "execution_count": null,
      "outputs": []
    },
    {
      "cell_type": "code",
      "metadata": {
        "id": "9g84gJM72ZGD"
      },
      "source": [
        "#Both types of articles are around the same length in words, on average\n",
        "words_per_article_plot_t = data_train_true[\"paragraph_based_content\"].apply(lambda x: len(x.split()))\n",
        "stdev_t = statistics.stdev(words_per_article_plot_t)\n",
        "words_per_article_t = words_per_article_plot_t.sum()/len(data_train_true[\"paragraph_based_content\"])\n",
        "\n",
        "words_per_article_plot_f = data_train_fake[\"paragraph_based_content\"].apply(lambda x: len(x.split()))\n",
        "stdev_f = statistics.stdev(words_per_article_plot_f)\n",
        "words_per_article_f = words_per_article_plot_f.sum()/len(data_train_fake[\"paragraph_based_content\"])\n",
        "\n",
        "print (\"The average number of words in a real news article is \", words_per_article_t)\n",
        "print (\"The average number of words in a fake news article is \", words_per_article_f)\n",
        "\n",
        "print (\"The standard deviation in real news article lengths is \", stdev_t)\n",
        "print (\"The standard deviation in fake news article lengths is \", stdev_f)"
      ],
      "execution_count": null,
      "outputs": []
    },
    {
      "cell_type": "code",
      "metadata": {
        "id": "jYpSTB3i5ZC6"
      },
      "source": [
        "%matplotlib inline\n",
        "fig, ax = plt.subplots(1, 2, figsize=(10, 6))\n",
        "sns.distplot(words_per_article_plot_t, ax = ax[0], color = \"darkblue\", rug = True).set_title(\"Number of Words in Real News Article\")\n",
        "sns.distplot(words_per_article_plot_f, ax = ax[1], color = \"red\", rug = True).set_title(\"Number of Words in Fake News Article\")"
      ],
      "execution_count": null,
      "outputs": []
    },
    {
      "cell_type": "code",
      "metadata": {
        "id": "a-vY27B16CUP"
      },
      "source": [
        "#Both types of articles are around the same length in words, on average\n",
        "words_per_headline_plot_t = data_train_true[\"statement\"].apply(lambda x: len(x.split()))\n",
        "stdev_t = statistics.stdev(words_per_headline_plot_t)\n",
        "words_per_headline_t = words_per_headline_plot_t.sum()/len(data_train_true[\"statement\"])\n",
        "\n",
        "words_per_headline_plot_f = data_train_fake[\"statement\"].apply(lambda x: len(x.split()))\n",
        "stdev_f = statistics.stdev(words_per_headline_plot_f)\n",
        "words_per_headline_f = words_per_headline_plot_f.sum()/len(data_train_fake[\"statement\"])\n",
        "\n",
        "print (\"The average number of words in a real news headline is \", words_per_headline_t)\n",
        "print (\"The average number of words in a fake news headline is \", words_per_headline_f)\n",
        "\n",
        "print (\"The standard deviation in real news headline lengths is \", stdev_t)\n",
        "print (\"The standard deviation in fake news headline lengths is \", stdev_f)"
      ],
      "execution_count": null,
      "outputs": []
    },
    {
      "cell_type": "code",
      "metadata": {
        "id": "lu__EnoN64HM"
      },
      "source": [
        "%matplotlib inline\n",
        "fig, ax = plt.subplots(1, 2, figsize=(10, 6))\n",
        "sns.distplot(words_per_headline_plot_t, ax = ax[0], color = \"darkblue\", rug = True).set_title(\"Number of Words in Real News Headline\")\n",
        "sns.distplot(words_per_headline_plot_f, ax = ax[1], color = \"red\", rug = True).set_title(\"Number of Words in Fake News Headline\")"
      ],
      "execution_count": null,
      "outputs": []
    },
    {
      "cell_type": "code",
      "metadata": {
        "colab": {
          "base_uri": "https://localhost:8080/"
        },
        "id": "lj0uhTaF2Iy3",
        "outputId": "5fcccbad-76f8-4daf-b670-ef712cf66d18"
      },
      "source": [
        "#create sparse matrix\n",
        "vectorizer_title = CountVectorizer(stop_words=\"english\",max_features=1000)\n",
        "vectorizer_text = CountVectorizer(stop_words=\"english\",max_features=4000)\n",
        "\n",
        "title_matrix_train = vectorizer_title.fit_transform(new_title_train).toarray() \n",
        "title_matrix_test = vectorizer_title.fit_transform(new_title_test).toarray()\n",
        "title_matrix_dev = vectorizer_title.fit_transform(new_title_dev).toarray()\n",
        "\n",
        "text_matrix_train = vectorizer_text.fit_transform(new_text_train).toarray()\n",
        "text_matrix_test = vectorizer_text.fit_transform(new_text_test).toarray()\n",
        "text_matrix_dev = vectorizer_text.fit_transform(new_text_dev).toarray()\n",
        "data_train.head()\n",
        "data_train.info()"
      ],
      "execution_count": null,
      "outputs": [
        {
          "output_type": "stream",
          "text": [
            "<class 'pandas.core.frame.DataFrame'>\n",
            "RangeIndex: 15212 entries, 0 to 15211\n",
            "Data columns (total 5 columns):\n",
            " #   Column                   Non-Null Count  Dtype \n",
            "---  ------                   --------------  ----- \n",
            " 0   id                       15212 non-null  int64 \n",
            " 1   statement                15212 non-null  object\n",
            " 2   sources                  15212 non-null  object\n",
            " 3   paragraph_based_content  15212 non-null  object\n",
            " 4   label_fnn                15212 non-null  int64 \n",
            "dtypes: int64(2), object(3)\n",
            "memory usage: 594.3+ KB\n"
          ],
          "name": "stdout"
        }
      ]
    },
    {
      "cell_type": "code",
      "metadata": {
        "colab": {
          "base_uri": "https://localhost:8080/"
        },
        "id": "mfmweUuz4D-J",
        "outputId": "deb7f562-b314-4fe6-8c4e-07615f111f29"
      },
      "source": [
        "print(data_train)"
      ],
      "execution_count": null,
      "outputs": [
        {
          "output_type": "stream",
          "text": [
            "          id  ... label_fnn\n",
            "0       3106  ...         1\n",
            "1       5655  ...         1\n",
            "2       3506  ...         1\n",
            "3       3450  ...         0\n",
            "4       4776  ...         1\n",
            "...      ...  ...       ...\n",
            "15207   7125  ...         0\n",
            "15208  17742  ...         1\n",
            "15209  16988  ...         1\n",
            "15210   5758  ...         1\n",
            "15211  16941  ...         0\n",
            "\n",
            "[15212 rows x 5 columns]\n"
          ],
          "name": "stdout"
        }
      ]
    },
    {
      "cell_type": "code",
      "metadata": {
        "id": "qk31Ypph7QUy"
      },
      "source": [
        "# create the train and test matrix\n",
        "Y_train = data_train.label_fnn\n",
        "X_train = np.concatenate((np.array(data_train.drop([\"id\",\"statement\",\"sources\",\"paragraph_based_content\",\"label_fnn\"],axis=1)),title_matrix_train,text_matrix_train),axis=1)\n",
        "\n",
        "Y_test = data_test.label_fnn\n",
        "X_test = np.concatenate((np.array(data_test.drop([\"id\",\"statement\",\"sources\",\"paragraph_based_content\",\"label_fnn\"],axis=1)),title_matrix_test,text_matrix_test),axis=1)\n",
        "\n",
        "Y_dev = data_dev.label_fnn\n",
        "X_dev = np.concatenate((np.array(data_dev.drop([\"id\",\"statement\",\"sources\",\"paragraph_based_content\",\"label_fnn\"],axis=1)),title_matrix_dev,text_matrix_dev),axis=1)\n"
      ],
      "execution_count": null,
      "outputs": []
    },
    {
      "cell_type": "code",
      "metadata": {
        "id": "78Oaqx7S7Qe9"
      },
      "source": [
        "print(title_matrix_train)"
      ],
      "execution_count": null,
      "outputs": []
    },
    {
      "cell_type": "code",
      "metadata": {
        "colab": {
          "base_uri": "https://localhost:8080/"
        },
        "id": "peR3us2Y7Qor",
        "outputId": "876437c9-9092-4929-bd5d-e827fe5e72c6"
      },
      "source": [
        "# Converting numpy arrays into pytorch tensors\n",
        "X_train = torch.Tensor(X_train)\n",
        "\n",
        "# You must convert it into LongTensor\n",
        "Y_train = torch.Tensor(Y_train).type(torch.LongTensor)\n",
        "\n",
        "X_test = torch.Tensor(X_test)\n",
        "Y_test = torch.Tensor(Y_test)\n",
        "\n",
        "X_dev = torch.Tensor(X_dev)\n",
        "Y_dev = torch.Tensor(Y_dev)\n",
        "\n",
        "print(X_train)\n",
        "print(X_test)"
      ],
      "execution_count": null,
      "outputs": [
        {
          "output_type": "stream",
          "text": [
            "tensor([[0., 0., 0.,  ..., 0., 0., 0.],\n",
            "        [0., 0., 0.,  ..., 0., 0., 0.],\n",
            "        [0., 0., 0.,  ..., 0., 0., 0.],\n",
            "        ...,\n",
            "        [0., 0., 0.,  ..., 0., 0., 0.],\n",
            "        [0., 0., 0.,  ..., 0., 0., 0.],\n",
            "        [0., 0., 0.,  ..., 0., 0., 0.]])\n",
            "tensor([[0., 0., 0.,  ..., 0., 0., 0.],\n",
            "        [0., 0., 0.,  ..., 0., 0., 0.],\n",
            "        [0., 0., 0.,  ..., 0., 0., 0.],\n",
            "        ...,\n",
            "        [0., 0., 0.,  ..., 0., 0., 0.],\n",
            "        [0., 0., 0.,  ..., 0., 1., 0.],\n",
            "        [0., 0., 0.,  ..., 0., 0., 0.]])\n"
          ],
          "name": "stdout"
        }
      ]
    },
    {
      "cell_type": "code",
      "metadata": {
        "id": "izLdAEY-7Qsl"
      },
      "source": [
        "# logistic regression\n",
        "from sklearn.datasets import load_digits\n",
        "from sklearn.linear_model import LogisticRegression\n",
        "from sklearn.preprocessing import StandardScaler"
      ],
      "execution_count": null,
      "outputs": []
    },
    {
      "cell_type": "code",
      "metadata": {
        "id": "GuIdZiELHrDe"
      },
      "source": [
        "# fit logistic regression model\n",
        "modelLG = LogisticRegression(solver = 'liblinear',random_state=0)\n",
        "modelLG = modelLG.fit(X_train, Y_train)\n",
        "\n",
        "#predict using logistic regression model on testing dataset\n",
        "ypred_lg_train = modelLG.predict(X_train)"
      ],
      "execution_count": null,
      "outputs": []
    },
    {
      "cell_type": "code",
      "metadata": {
        "colab": {
          "base_uri": "https://localhost:8080/"
        },
        "id": "MImHfNMxUpUT",
        "outputId": "06a05590-f035-4187-e302-6c5becd980bf"
      },
      "source": [
        "# Classification report on training dataset\n",
        "print(classification_report(Y_train, ypred_lg_train))"
      ],
      "execution_count": null,
      "outputs": [
        {
          "output_type": "stream",
          "text": [
            "              precision    recall  f1-score   support\n",
            "\n",
            "           0       0.88      0.89      0.88      7591\n",
            "           1       0.89      0.88      0.88      7621\n",
            "\n",
            "    accuracy                           0.88     15212\n",
            "   macro avg       0.88      0.88      0.88     15212\n",
            "weighted avg       0.88      0.88      0.88     15212\n",
            "\n"
          ],
          "name": "stdout"
        }
      ]
    },
    {
      "cell_type": "code",
      "metadata": {
        "id": "l58BEppBVFlK"
      },
      "source": [
        "ypred_lg_test = modelLG.predict(X_test)"
      ],
      "execution_count": null,
      "outputs": []
    },
    {
      "cell_type": "code",
      "metadata": {
        "colab": {
          "base_uri": "https://localhost:8080/"
        },
        "id": "Hw_9BBpe1F3K",
        "outputId": "d1078e8e-2d55-4db6-d088-3e5ac006ed09"
      },
      "source": [
        "# Classification report on testing dataset\n",
        "print(classification_report(Y_test, ypred_lg_test))"
      ],
      "execution_count": null,
      "outputs": [
        {
          "output_type": "stream",
          "text": [
            "              precision    recall  f1-score   support\n",
            "\n",
            "         0.0       0.58      0.60      0.59       636\n",
            "         1.0       0.36      0.34      0.35       418\n",
            "\n",
            "    accuracy                           0.50      1054\n",
            "   macro avg       0.47      0.47      0.47      1054\n",
            "weighted avg       0.49      0.50      0.50      1054\n",
            "\n"
          ],
          "name": "stdout"
        }
      ]
    },
    {
      "cell_type": "code",
      "metadata": {
        "id": "20Dahz5E1yDO"
      },
      "source": [
        "ypred_lg_dev = modelLG.predict(X_dev)"
      ],
      "execution_count": null,
      "outputs": []
    },
    {
      "cell_type": "code",
      "metadata": {
        "colab": {
          "base_uri": "https://localhost:8080/"
        },
        "id": "L-PfbrEp12Kx",
        "outputId": "be44a3bb-1fec-4fbe-f72a-37f286a36e63"
      },
      "source": [
        "# Classification report on testing dataset\n",
        "print(classification_report(Y_dev, ypred_lg_dev))"
      ],
      "execution_count": null,
      "outputs": [
        {
          "output_type": "stream",
          "text": [
            "              precision    recall  f1-score   support\n",
            "\n",
            "         0.0       0.51      0.48      0.50       540\n",
            "         1.0       0.49      0.52      0.51       518\n",
            "\n",
            "    accuracy                           0.50      1058\n",
            "   macro avg       0.50      0.50      0.50      1058\n",
            "weighted avg       0.50      0.50      0.50      1058\n",
            "\n"
          ],
          "name": "stdout"
        }
      ]
    },
    {
      "cell_type": "code",
      "metadata": {
        "id": "dBk5TXTTP86i",
        "colab": {
          "base_uri": "https://localhost:8080/"
        },
        "outputId": "fd6d1485-aaa2-448c-c131-c5bbbc4fc9fa"
      },
      "source": [
        "from sklearn import metrics\n",
        "lg_cm = metrics.confusion_matrix(Y_test, ypred_lg_test)\n",
        "print(lg_cm)"
      ],
      "execution_count": null,
      "outputs": [
        {
          "output_type": "stream",
          "text": [
            "[[384 252]\n",
            " [277 141]]\n"
          ],
          "name": "stdout"
        }
      ]
    },
    {
      "cell_type": "code",
      "metadata": {
        "id": "F1_MOq5jQOth",
        "colab": {
          "base_uri": "https://localhost:8080/",
          "height": 265
        },
        "outputId": "fd074c8d-2c2f-4670-871d-b32e4798ff21"
      },
      "source": [
        "labels =  np.array([['384','252'],['277','141']])\n",
        "sns.heatmap(lg_cm, annot=labels, fmt = '')\n",
        "plt.show()"
      ],
      "execution_count": null,
      "outputs": [
        {
          "output_type": "display_data",
          "data": {
            "image/png": "[encoded data removed]",
            "text/plain": [
              "<Figure size 432x288 with 2 Axes>"
            ]
          },
          "metadata": {
            "tags": [],
            "needs_background": "light"
          }
        }
      ]
    },
    {
      "cell_type": "code",
      "metadata": {
        "id": "6U2PqkpSQRBo",
        "colab": {
          "base_uri": "https://localhost:8080/"
        },
        "outputId": "b0244132-18ad-468a-fd0d-8a4a100446fa"
      },
      "source": [
        "print (metrics.roc_auc_score(Y_test, ypred_lg_test))"
      ],
      "execution_count": null,
      "outputs": [
        {
          "output_type": "stream",
          "text": [
            "0.47054707953416985\n"
          ],
          "name": "stdout"
        }
      ]
    },
    {
      "cell_type": "code",
      "metadata": {
        "id": "r-G5DeGy3R7X",
        "colab": {
          "base_uri": "https://localhost:8080/"
        },
        "outputId": "5bb1a25b-55c1-49fd-8334-ac4843a95df0"
      },
      "source": [
        "from sklearn.naive_bayes import GaussianNB\n",
        "# Fit a model using Naive Bayes\n",
        "modelNB = GaussianNB()\n",
        "modelNB.fit(X_train, Y_train)\n",
        "\n",
        "# Predict using the training dataset\n",
        "modelNB.predict(X_train)"
      ],
      "execution_count": null,
      "outputs": [
        {
          "output_type": "execute_result",
          "data": {
            "text/plain": [
              "array([1, 1, 0, ..., 1, 1, 0])"
            ]
          },
          "metadata": {
            "tags": []
          },
          "execution_count": 27
        }
      ]
    },
    {
      "cell_type": "code",
      "metadata": {
        "id": "D2EkWAak3czJ",
        "colab": {
          "base_uri": "https://localhost:8080/"
        },
        "outputId": "a48dabf4-2e2e-4744-b3eb-d2adc9751519"
      },
      "source": [
        "# Classification report on training dataset\n",
        "print(classification_report(Y_train, modelNB.predict(X_train)))"
      ],
      "execution_count": null,
      "outputs": [
        {
          "output_type": "stream",
          "text": [
            "              precision    recall  f1-score   support\n",
            "\n",
            "           0       0.70      0.76      0.73      7591\n",
            "           1       0.74      0.67      0.70      7621\n",
            "\n",
            "    accuracy                           0.72     15212\n",
            "   macro avg       0.72      0.72      0.71     15212\n",
            "weighted avg       0.72      0.72      0.71     15212\n",
            "\n"
          ],
          "name": "stdout"
        }
      ]
    },
    {
      "cell_type": "code",
      "metadata": {
        "id": "qqbqBIVs3iD7",
        "colab": {
          "base_uri": "https://localhost:8080/"
        },
        "outputId": "13a73e9d-fbc3-47ea-debf-86b19d8dd127"
      },
      "source": [
        "# Predict using the testing dataset\n",
        "modelNB.predict(X_test)"
      ],
      "execution_count": null,
      "outputs": [
        {
          "output_type": "execute_result",
          "data": {
            "text/plain": [
              "array([1, 1, 1, ..., 1, 1, 1])"
            ]
          },
          "metadata": {
            "tags": []
          },
          "execution_count": 29
        }
      ]
    },
    {
      "cell_type": "code",
      "metadata": {
        "id": "0ZvHwxm_3kxr",
        "colab": {
          "base_uri": "https://localhost:8080/"
        },
        "outputId": "5a00904a-b591-4ea0-ea93-46b992198e1d"
      },
      "source": [
        "# Classification report on testing dataset\n",
        "print(classification_report(Y_test, modelNB.predict(X_test)))"
      ],
      "execution_count": null,
      "outputs": [
        {
          "output_type": "stream",
          "text": [
            "              precision    recall  f1-score   support\n",
            "\n",
            "         0.0       0.39      0.26      0.31       636\n",
            "         1.0       0.25      0.37      0.30       418\n",
            "\n",
            "    accuracy                           0.31      1054\n",
            "   macro avg       0.32      0.32      0.31      1054\n",
            "weighted avg       0.33      0.31      0.31      1054\n",
            "\n"
          ],
          "name": "stdout"
        }
      ]
    },
    {
      "cell_type": "code",
      "metadata": {
        "id": "PdBW3hMN5dTK",
        "colab": {
          "base_uri": "https://localhost:8080/"
        },
        "outputId": "7f8962f7-2f72-42c7-b54e-d817c5264f30"
      },
      "source": [
        "# fit SVM model on the training dataset\n",
        "from sklearn.svm import LinearSVC\n",
        "modelSVM = LinearSVC(random_state=0)\n",
        "modelSVM.fit(X_train, Y_train)\n",
        "\n",
        "ypred_svm_train = modelSVM.predict(X_train)"
      ],
      "execution_count": null,
      "outputs": [
        {
          "output_type": "stream",
          "text": [
            "/usr/local/lib/python3.6/dist-packages/sklearn/svm/_base.py:947: ConvergenceWarning: Liblinear failed to converge, increase the number of iterations.\n",
            "  \"the number of iterations.\", ConvergenceWarning)\n"
          ],
          "name": "stderr"
        }
      ]
    },
    {
      "cell_type": "code",
      "metadata": {
        "id": "K2IzxIMkO_Su",
        "colab": {
          "base_uri": "https://localhost:8080/",
          "height": 135
        },
        "outputId": "9e46963a-07d7-41c7-9639-87378d5aa078"
      },
      "source": [
        "print(classification_report(Y_train, ypred_svm_train)"
      ],
      "execution_count": null,
      "outputs": [
        {
          "output_type": "error",
          "ename": "SyntaxError",
          "evalue": "ignored",
          "traceback": [
            "\u001b[0;36m  File \u001b[0;32m\"<ipython-input-32-343ec7974911>\"\u001b[0;36m, line \u001b[0;32m1\u001b[0m\n\u001b[0;31m    print(classification_report(Y_train, ypred_svm_train)\u001b[0m\n\u001b[0m                                                         ^\u001b[0m\n\u001b[0;31mSyntaxError\u001b[0m\u001b[0;31m:\u001b[0m unexpected EOF while parsing\n"
          ]
        }
      ]
    },
    {
      "cell_type": "code",
      "metadata": {
        "id": "C9FhGdaK69Dn"
      },
      "source": [
        "ypred_svm_test = modelSVM.predict(X_test)"
      ],
      "execution_count": null,
      "outputs": []
    },
    {
      "cell_type": "code",
      "metadata": {
        "id": "_S07H0Wp7DkR"
      },
      "source": [
        "# Classification report on testing dataset\n",
        "print(classification_report(Y_test, ypred_svm_test))"
      ],
      "execution_count": null,
      "outputs": []
    },
    {
      "cell_type": "code",
      "metadata": {
        "id": "ciS9XCQ_Q9gw"
      },
      "source": [
        "svm_cm = metrics.confusion_matrix(Y_test, ypred_svm_test)\n",
        "print(svm_cm)"
      ],
      "execution_count": null,
      "outputs": []
    },
    {
      "cell_type": "code",
      "metadata": {
        "id": "ysltzDljQ9gw"
      },
      "source": [
        "labels =  np.array([['4005','517'],['471','4348']])\n",
        "sns.heatmap(svm_cm, annot=labels, fmt = '')\n",
        "plt.show()"
      ],
      "execution_count": null,
      "outputs": []
    },
    {
      "cell_type": "code",
      "metadata": {
        "id": "rhfvC8VYQ9gw"
      },
      "source": [
        "print (metrics.roc_auc_score(Y_test, ypred_lg_train))"
      ],
      "execution_count": null,
      "outputs": []
    },
    {
      "cell_type": "code",
      "metadata": {
        "id": "YZS75mEXaI2d"
      },
      "source": [
        "class ANN(nn.Module):\n",
        "    \n",
        "    def __init__(self):\n",
        "        \n",
        "        super(ANN,self).__init__() # Inhertiting\n",
        "        \n",
        "        self.linear1 = nn.Linear(5000,3000) # IN 5008 OUT 2000\n",
        "        self.relu1 = nn.ReLU() # Actfunc 1\n",
        "        \n",
        "        self.linear2 = nn.Linear(3000,1500) # IN 2000 OUT 500\n",
        "        self.relu2 = nn.ReLU()\n",
        "        \n",
        "        self.linear3 = nn.Linear(1500,300) # IN 500 OUT 100\n",
        "        self.relu3 = nn.ReLU()\n",
        "        \n",
        "        self.linear4 = nn.Linear(300,50) # IN 100 OUT 20\n",
        "        self.relu4 = nn.ReLU()\n",
        "        \n",
        "        self.linear5 = nn.Linear(50,2) # IN 20 OUT 2 | OUTPUT \n",
        "        \n",
        "    \n",
        "    def forward(self,x):\n",
        "        \n",
        "        out = self.linear1(x) # Input Layer \n",
        "        out = self.relu1(out)\n",
        "        \n",
        "        out = self.linear2(out) # Hidden Layer 1 \n",
        "        out = self.relu2(out)\n",
        "        \n",
        "        out = self.linear3(out) # Hidden Layer 2 \n",
        "        out = self.relu3(out)\n",
        "        \n",
        "        out = self.linear4(out) # Hidden Layer 3 \n",
        "        out = self.relu4(out)\n",
        "\n",
        "        \n",
        "        out = self.linear5(out) # Output Layer\n",
        "        \n",
        "        return out\n",
        "    \n",
        "\n",
        "modelANN = ANN()\n",
        "optimizer = torch.optim.Adam(modelANN.parameters(),lr=0.01)\n",
        "error = nn.CrossEntropyLoss()"
      ],
      "execution_count": null,
      "outputs": []
    },
    {
      "cell_type": "code",
      "metadata": {
        "colab": {
          "base_uri": "https://localhost:8080/"
        },
        "id": "MYxPu1WYe641",
        "outputId": "a3371900-44aa-4d00-f012-d2d2be6048d6"
      },
      "source": [
        "EPOCHS = 5\n",
        "\n",
        "for epoch in range(EPOCHS):\n",
        "    \n",
        "    # Clearing gradients\n",
        "    optimizer.zero_grad()\n",
        "    \n",
        "    # Forward Propagation\n",
        "    outs = modelANN(X_train)\n",
        "    \n",
        "    # Computing Loss\n",
        "    loss = error(outs,Y_train)\n",
        "    \n",
        "    # Backward propagation\n",
        "    loss.backward()\n",
        "    \n",
        "    # Updating parameters\n",
        "    optimizer.step()\n",
        "    \n",
        "    # Printing loss\n",
        "    print(f\"Loss after iteration {epoch} is {loss}\")"
      ],
      "execution_count": null,
      "outputs": [
        {
          "output_type": "stream",
          "text": [
            "Loss after iteration 0 is 0.693307638168335\n",
            "Loss after iteration 1 is 25.57130241394043\n",
            "Loss after iteration 2 is 53.79549026489258\n",
            "Loss after iteration 3 is 4.528623104095459\n",
            "Loss after iteration 4 is 3.7471795082092285\n"
          ],
          "name": "stdout"
        }
      ]
    },
    {
      "cell_type": "code",
      "metadata": {
        "colab": {
          "base_uri": "https://localhost:8080/"
        },
        "id": "E8_zHI_PY3Ju",
        "outputId": "e5e56894-ff18-480d-ed33-c2a15624369b"
      },
      "source": [
        "y_head = modelANN(X_test)\n",
        "print(y_head[0])\n",
        "# Converting Prediction into labels\n",
        "y_predANN = torch.max(y_head,1)[1]\n",
        "print(y_predANN[0])"
      ],
      "execution_count": null,
      "outputs": [
        {
          "output_type": "stream",
          "text": [
            "tensor([0.1701, 0.0907], grad_fn=<SelectBackward>)\n",
            "tensor(0)\n"
          ],
          "name": "stdout"
        }
      ]
    },
    {
      "cell_type": "code",
      "metadata": {
        "colab": {
          "base_uri": "https://localhost:8080/"
        },
        "id": "vYURZ-mVPeLl",
        "outputId": "f22cb4d9-1fae-4150-947b-5aa42c5ccd45"
      },
      "source": [
        "print(\"Model accuracy is \",accuracy_score(y_predANN,Y_test))"
      ],
      "execution_count": null,
      "outputs": [
        {
          "output_type": "stream",
          "text": [
            "Model accuracy is  0.603415559772296\n"
          ],
          "name": "stdout"
        }
      ]
    },
    {
      "cell_type": "code",
      "metadata": {
        "colab": {
          "base_uri": "https://localhost:8080/"
        },
        "id": "j2GoNQ42PT1L",
        "outputId": "423c5601-2088-4e36-f8f0-ef69024406a1"
      },
      "source": [
        "y_head = modelANN(X_train)\n",
        "print(y_head[0])\n",
        "# Converting Prediction into labels\n",
        "y_predANNt = torch.max(y_head,1)[1]\n",
        "print(y_predANNt[0])"
      ],
      "execution_count": null,
      "outputs": [
        {
          "output_type": "stream",
          "text": [
            "tensor([0.1701, 0.0907], grad_fn=<SelectBackward>)\n",
            "tensor(0)\n"
          ],
          "name": "stdout"
        }
      ]
    },
    {
      "cell_type": "code",
      "metadata": {
        "colab": {
          "base_uri": "https://localhost:8080/"
        },
        "id": "hsr5XiBVZGbt",
        "outputId": "16e185cb-52fc-4af6-c1f9-1ca34feb1b2c"
      },
      "source": [
        "print(\"Model accuracy is \",accuracy_score(y_predANNt,Y_train))"
      ],
      "execution_count": null,
      "outputs": [
        {
          "output_type": "stream",
          "text": [
            "Model accuracy is  0.4990139363660268\n"
          ],
          "name": "stdout"
        }
      ]
    },
    {
      "cell_type": "code",
      "metadata": {
        "id": "3keRcoMGB34e",
        "colab": {
          "base_uri": "https://localhost:8080/"
        },
        "outputId": "7ac28b35-a113-4537-a328-43a3c4aa0595"
      },
      "source": [
        "from sklearn.linear_model import SGDClassifier\n",
        "sgd = SGDClassifier()\n",
        "sgd.fit(X_train, Y_train)"
      ],
      "execution_count": null,
      "outputs": [
        {
          "output_type": "execute_result",
          "data": {
            "text/plain": [
              "SGDClassifier(alpha=0.0001, average=False, class_weight=None,\n",
              "              early_stopping=False, epsilon=0.1, eta0=0.0, fit_intercept=True,\n",
              "              l1_ratio=0.15, learning_rate='optimal', loss='hinge',\n",
              "              max_iter=1000, n_iter_no_change=5, n_jobs=None, penalty='l2',\n",
              "              power_t=0.5, random_state=None, shuffle=True, tol=0.001,\n",
              "              validation_fraction=0.1, verbose=0, warm_start=False)"
            ]
          },
          "metadata": {
            "tags": []
          },
          "execution_count": 39
        }
      ]
    },
    {
      "cell_type": "code",
      "metadata": {
        "id": "TQRI2LC76_kI",
        "colab": {
          "base_uri": "https://localhost:8080/"
        },
        "outputId": "69df760b-c174-4acc-e56f-77cdc21f25e4"
      },
      "source": [
        "prediction_sgd = sgd.predict(X_test)\n",
        "print (classification_report(Y_test, prediction_sgd))"
      ],
      "execution_count": null,
      "outputs": [
        {
          "output_type": "stream",
          "text": [
            "              precision    recall  f1-score   support\n",
            "\n",
            "         0.0       0.56      0.59      0.57       636\n",
            "         1.0       0.32      0.29      0.30       418\n",
            "\n",
            "    accuracy                           0.47      1054\n",
            "   macro avg       0.44      0.44      0.44      1054\n",
            "weighted avg       0.46      0.47      0.47      1054\n",
            "\n"
          ],
          "name": "stdout"
        }
      ]
    },
    {
      "cell_type": "code",
      "metadata": {
        "id": "wtq39rVFi9kE",
        "colab": {
          "base_uri": "https://localhost:8080/"
        },
        "outputId": "0ff2e42d-dc3a-439b-97d1-0e0f2d6271a4"
      },
      "source": [
        "from sklearn import metrics\n",
        "sgd_cm = metrics.confusion_matrix(Y_test, prediction_sgd)\n",
        "print(sgd_cm)"
      ],
      "execution_count": null,
      "outputs": [
        {
          "output_type": "stream",
          "text": [
            "[[376 260]\n",
            " [296 122]]\n"
          ],
          "name": "stdout"
        }
      ]
    },
    {
      "cell_type": "code",
      "metadata": {
        "id": "_-IkIbHhfMYn",
        "colab": {
          "base_uri": "https://localhost:8080/",
          "height": 265
        },
        "outputId": "8420ac51-d440-47d5-bddb-84ae862c578f"
      },
      "source": [
        "labels =  np.array([['376','260'],['296','122']])\n",
        "sns.heatmap(sgd_cm, annot=labels, fmt = '')\n",
        "plt.show()"
      ],
      "execution_count": null,
      "outputs": [
        {
          "output_type": "display_data",
          "data": {
            "image/png": "[encoded data removed]",
            "text/plain": [
              "<Figure size 432x288 with 2 Axes>"
            ]
          },
          "metadata": {
            "tags": [],
            "needs_background": "light"
          }
        }
      ]
    },
    {
      "cell_type": "code",
      "metadata": {
        "id": "18tzdPi8Wtr9"
      },
      "source": [
        "from torch.autograd import Variable\n",
        "epochs=50\n",
        "learning_rate=0.01"
      ],
      "execution_count": null,
      "outputs": []
    },
    {
      "cell_type": "code",
      "metadata": {
        "id": "1WucqdWlPK9I"
      },
      "source": [
        "class Feedforwardnet(nn.Module):\n",
        "    def __init__(self,input_size,hidden_sizes,activation):      \n",
        "        super(Feedforwardnet, self).__init__()\n",
        "        \n",
        "        # input layer\n",
        "        self.layers = input_size\n",
        "        fc = []\n",
        "        \n",
        "        # activation function\n",
        "        activationf = {\n",
        "            'ReLU': nn.ReLU(),\n",
        "            'Sigmoid': nn.Sigmoid(),\n",
        "            'Tanh': nn.Tanh(),\n",
        "            'Identity': lambda x:x}\n",
        "        actf=[]\n",
        "        \n",
        "        for a in activation:\n",
        "            actf.append(activationf[a])\n",
        "            \n",
        "        # output layer\n",
        "        for i in range(self.layers+1):\n",
        "            fc.append(nn.Linear(hidden_sizes[i], hidden_sizes[i+1]))\n",
        "            \n",
        "        self.fc = nn.ModuleList(fc)\n",
        "        self.act = nn.ModuleList(actf)\n",
        "           \n",
        "    def forward(self,x):\n",
        "        for i in range(len(self.fc)):\n",
        "            x=self.fc[i](x)\n",
        "            x=self.act[i](x)\n",
        "        return x"
      ],
      "execution_count": null,
      "outputs": []
    },
    {
      "cell_type": "code",
      "metadata": {
        "id": "4f7lIPwxTPSG"
      },
      "source": [
        "def train (x_trn, y_trn,x_tst,input_size ,hidden_size,activation):\n",
        "    ##Setup FeedForward Neural Network\n",
        "    model=Feedforwardnet(input_size,hidden_size,activation)\n",
        "    criterion = torch.nn.CrossEntropyLoss()\n",
        "    optimizer = torch.optim.Adam(model.parameters(), lr=learning_rate)\n",
        "    \n",
        "    #Transform Data\n",
        "    x_train=Variable(torch.FloatTensor(x_trn))\n",
        "    x_test=Variable(torch.FloatTensor(x_tst))\n",
        "    y_train=np.squeeze(y_trn)\n",
        "    y_train=torch.LongTensor(y_trn)\n",
        "    \n",
        "    #Train the model\n",
        "    model.train()\n",
        "    for epoch in range(epochs):\n",
        "            optimizer.zero_grad()\n",
        "            output = model(x_train)\n",
        "            loss =criterion(output,y_train)\n",
        "            loss.backward()\n",
        "            optimizer.step()  \n",
        "    \n",
        "    # Parametes:Weights,Bias,Activation\n",
        "    parameter=list(model.parameters())\n",
        "    learned_weights=[]\n",
        "    learned_bias=[]\n",
        "    for i in range(len(parameter)):\n",
        "        if i %2==0:\n",
        "            learned_weights.append(parameter[i].detach().numpy())\n",
        "        else: learned_bias.append(parameter[i].detach().numpy())\n",
        "            \n",
        "    activation=model(x_train).detach().numpy()\n",
        "    \n",
        "    \n",
        "    model.eval()\n",
        "    \n",
        "    #Predict Train\n",
        "    y_train_predict=model(x_train)\n",
        "    train_predict=prediction(y_train_predict)\n",
        "    \n",
        "    #Predict Test\n",
        "    y_test_predict=model(x_test)\n",
        "    test_predict=prediction(y_test_predict)\n",
        "    \n",
        "    #Outputs Weights,Bias, Activation, \n",
        "    return learned_weights,learned_bias,activation,train_predict,test_predict"
      ],
      "execution_count": null,
      "outputs": []
    },
    {
      "cell_type": "code",
      "metadata": {
        "id": "ilzvraerTR8F"
      },
      "source": [
        "# Function to predict variables\n",
        "def prediction(predict):\n",
        "    _, pred= torch.max(predict.data, 1)\n",
        "    pred=pred.detach().numpy()\n",
        "    return pred"
      ],
      "execution_count": null,
      "outputs": []
    },
    {
      "cell_type": "code",
      "metadata": {
        "id": "18nrxrO1TVZX"
      },
      "source": [
        "#Function to calculate Accuracy\n",
        "def accuracy(Y_pred,Y_test):\n",
        "    acc=0\n",
        "    for i in range(len(Y_test)):\n",
        "        if Y_pred[i]==Y_test[i]:\n",
        "            acc +=1\n",
        "    return (acc/len(Y_test))"
      ],
      "execution_count": null,
      "outputs": []
    },
    {
      "cell_type": "code",
      "metadata": {
        "id": "d_uDkx8rTans"
      },
      "source": [
        "learned_weights,learned_bias,activation,train_predict,test_predict=train(X_train,Y_train,X_test,1,[5000,3000,2],['ReLU','Sigmoid'])"
      ],
      "execution_count": null,
      "outputs": []
    },
    {
      "cell_type": "code",
      "metadata": {
        "colab": {
          "base_uri": "https://localhost:8080/"
        },
        "id": "qi0JAjzpTc1l",
        "outputId": "5791a3d4-0eff-474f-c4c1-96d870860ddf"
      },
      "source": [
        "print(\"The accuracy on Train dataset:\",accuracy(train_predict,Y_train))\n",
        "print(\"The classification error on the dataset is:\",1-accuracy(train_predict,Y_train))"
      ],
      "execution_count": null,
      "outputs": [
        {
          "output_type": "stream",
          "text": [
            "The accuracy on Train dataset: 0.49907967394162506\n",
            "The classification error on the dataset is: 0.500920326058375\n"
          ],
          "name": "stdout"
        }
      ]
    },
    {
      "cell_type": "code",
      "metadata": {
        "colab": {
          "base_uri": "https://localhost:8080/"
        },
        "id": "CaSFuo9OTgHd",
        "outputId": "03104d2b-ef88-414d-c72d-b7e2b335996d"
      },
      "source": [
        "print(\"The accuracy on test dataset:\",accuracy(test_predict,Y_test))\n",
        "print(\"The classification error on the dataset is:\",1-accuracy(test_predict,Y_test))"
      ],
      "execution_count": null,
      "outputs": [
        {
          "output_type": "stream",
          "text": [
            "The accuracy on test dataset: 0.603415559772296\n",
            "The classification error on the dataset is: 0.396584440227704\n"
          ],
          "name": "stdout"
        }
      ]
    },
    {
      "cell_type": "code",
      "metadata": {
        "id": "qfjrzc1NZHfj"
      },
      "source": [
        "epochs=60"
      ],
      "execution_count": null,
      "outputs": []
    },
    {
      "cell_type": "code",
      "metadata": {
        "id": "ghkYplXbYfpP"
      },
      "source": [
        "learned_weights,learned_bias,activation,train_predict,test_predict=train(X_train,Y_train,X_test,3,[5000,3000,1000,100,2],['ReLU','ReLU','ReLU','Sigmoid'])"
      ],
      "execution_count": null,
      "outputs": []
    },
    {
      "cell_type": "code",
      "metadata": {
        "colab": {
          "base_uri": "https://localhost:8080/"
        },
        "id": "6nJjEzCOYg9q",
        "outputId": "ee4ba973-1bba-4146-8d9f-d3298154aaee"
      },
      "source": [
        "print(\"The accuracy on Train dataset:\",accuracy(train_predict,Y_train))\n",
        "print(\"The classification error on the dataset is:\",1-accuracy(train_predict,Y_train))"
      ],
      "execution_count": null,
      "outputs": [
        {
          "output_type": "stream",
          "text": [
            "The accuracy on Train dataset: 0.4990139363660268\n",
            "The classification error on the dataset is: 0.5009860636339731\n"
          ],
          "name": "stdout"
        }
      ]
    },
    {
      "cell_type": "code",
      "metadata": {
        "colab": {
          "base_uri": "https://localhost:8080/"
        },
        "id": "_iZd29IeYhMQ",
        "outputId": "3c7adc96-f8c5-4ed2-ed93-674ac5345012"
      },
      "source": [
        "print(\"The accuracy on test dataset:\",accuracy(test_predict,Y_test))\n",
        "print(\"The classification error on the dataset is:\",1-accuracy(test_predict,Y_test))"
      ],
      "execution_count": null,
      "outputs": [
        {
          "output_type": "stream",
          "text": [
            "The accuracy on test dataset: 0.603415559772296\n",
            "The classification error on the dataset is: 0.396584440227704\n"
          ],
          "name": "stdout"
        }
      ]
    },
    {
      "cell_type": "code",
      "metadata": {
        "id": "tgMXKbTlDz8i"
      },
      "source": [
        "learned_weights,learned_bias,activation,train_predict,test_predict=train(X_train,Y_train,X_test,4,[5000,3000,1000,500,100,2],['ReLU','ReLU','ReLU','ReLU','Sigmoid'])"
      ],
      "execution_count": null,
      "outputs": []
    },
    {
      "cell_type": "code",
      "metadata": {
        "colab": {
          "base_uri": "https://localhost:8080/"
        },
        "id": "zx-ATD3LD15m",
        "outputId": "c3adbd31-d723-43d5-8e58-08e6acecc755"
      },
      "source": [
        "print(\"The accuracy on Train dataset:\",accuracy(train_predict,Y_train))\r\n",
        "print(\"The classification error on the dataset is:\",1-accuracy(train_predict,Y_train))"
      ],
      "execution_count": null,
      "outputs": [
        {
          "output_type": "stream",
          "text": [
            "The accuracy on Train dataset: 0.5009860636339731\n",
            "The classification error on the dataset is: 0.49901393636602687\n"
          ],
          "name": "stdout"
        }
      ]
    },
    {
      "cell_type": "code",
      "metadata": {
        "colab": {
          "base_uri": "https://localhost:8080/"
        },
        "id": "mnxPqe7PD3tA",
        "outputId": "11f011fd-35ee-4d91-a33c-9dcd87f0c496"
      },
      "source": [
        "print(\"The accuracy on test dataset:\",accuracy(test_predict,Y_test))\r\n",
        "print(\"The classification error on the dataset is:\",1-accuracy(test_predict,Y_test))"
      ],
      "execution_count": null,
      "outputs": [
        {
          "output_type": "stream",
          "text": [
            "The accuracy on test dataset: 0.396584440227704\n",
            "The classification error on the dataset is: 0.603415559772296\n"
          ],
          "name": "stdout"
        }
      ]
    }
  ]
}